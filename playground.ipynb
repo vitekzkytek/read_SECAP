{
 "cells": [
  {
   "cell_type": "code",
   "execution_count": 1,
   "metadata": {},
   "outputs": [],
   "source": [
    "#%pip install faiss-cpu"
   ]
  },
  {
   "cell_type": "code",
   "execution_count": 1,
   "metadata": {},
   "outputs": [
    {
     "name": "stdout",
     "output_type": "stream",
     "text": [
      "2024-12-11 11:08:46,580 - logging_config - INFO - Starting PDF Torino.pdf\n"
     ]
    },
    {
     "name": "stderr",
     "output_type": "stream",
     "text": [
      "pdf_input/Torino.pdf: 100%|██████████| 78/78 [07:58<00:00,  6.14s/it]"
     ]
    },
    {
     "name": "stdout",
     "output_type": "stream",
     "text": [
      "2024-12-11 11:17:10,512 - logging_config - INFO - Starting PDF Zaragoza.pdf\n"
     ]
    },
    {
     "name": "stderr",
     "output_type": "stream",
     "text": [
      "\n",
      "pdf_input/Zaragoza.pdf: 100%|██████████| 78/78 [07:33<00:00,  5.81s/it]"
     ]
    },
    {
     "name": "stdout",
     "output_type": "stream",
     "text": [
      "2024-12-11 11:24:55,288 - logging_config - INFO - Starting PDF Bologna.pdf\n"
     ]
    },
    {
     "name": "stderr",
     "output_type": "stream",
     "text": [
      "\n",
      "pdf_input/Bologna.pdf: 100%|██████████| 78/78 [08:54<00:00,  6.85s/it]"
     ]
    },
    {
     "name": "stdout",
     "output_type": "stream",
     "text": [
      "2024-12-11 11:34:10,835 - logging_config - INFO - Starting PDF Izmir.pdf\n"
     ]
    },
    {
     "name": "stderr",
     "output_type": "stream",
     "text": [
      "\n",
      "pdf_input/Izmir.pdf: 100%|██████████| 78/78 [07:59<00:00,  6.15s/it]\n"
     ]
    }
   ],
   "source": [
    "from llm import load_models\n",
    "from dotenv import load_dotenv\n",
    "from questioning import load_qdf, ask_qs_using_RAG\n",
    "import os\n",
    "from logging_config import logger\n",
    "\n",
    "load_dotenv()\n",
    "\n",
    "llm, emb = load_models(service = 'DeepInfra')\n",
    "\n",
    "qdf = load_qdf()\n",
    "\n",
    "pdfs = [f for f in os.listdir('pdf_input') if f.endswith('.pdf')]\n",
    "for pdf in pdfs:\n",
    "    logger.info(f'Starting PDF {pdf}')\n",
    "    ask_qs_using_RAG(\n",
    "        qdf = qdf, \n",
    "        llm = llm, \n",
    "        emb = emb,\n",
    "        pdf = f'pdf_input/{pdf}',\n",
    "        output_json = 'output/qs_rag.json',\n",
    "        logger=logger\n",
    "    )\n"
   ]
  },
  {
   "cell_type": "code",
   "execution_count": 5,
   "metadata": {},
   "outputs": [
    {
     "data": {
      "text/plain": [
       "['2024-12-11 11:04:15,144 - logging_config - INFO - Starting PDF {pdf}\\n',\n",
       " '2024-12-11 11:08:46,580 - logging_config - INFO - Starting PDF Torino.pdf\\n',\n",
       " '2024-12-11 11:17:10,512 - logging_config - INFO - Starting PDF Zaragoza.pdf\\n',\n",
       " '2024-12-11 11:24:55,288 - logging_config - INFO - Starting PDF Bologna.pdf\\n',\n",
       " '2024-12-11 11:34:10,835 - logging_config - INFO - Starting PDF Izmir.pdf\\n']"
      ]
     },
     "execution_count": 5,
     "metadata": {},
     "output_type": "execute_result"
    }
   ],
   "source": [
    "with open('logger.log','r') as f:\n",
    "    errors = [line for line in f.readlines() if 'INFO' in line]\n",
    "errors"
   ]
  },
  {
   "cell_type": "code",
   "execution_count": null,
   "metadata": {},
   "outputs": [],
   "source": []
  }
 ],
 "metadata": {
  "kernelspec": {
   "display_name": "plgrnd",
   "language": "python",
   "name": "python3"
  },
  "language_info": {
   "codemirror_mode": {
    "name": "ipython",
    "version": 3
   },
   "file_extension": ".py",
   "mimetype": "text/x-python",
   "name": "python",
   "nbconvert_exporter": "python",
   "pygments_lexer": "ipython3",
   "version": "3.12.7"
  }
 },
 "nbformat": 4,
 "nbformat_minor": 2
}
