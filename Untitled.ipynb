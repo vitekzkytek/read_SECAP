{
 "cells": [
  {
   "cell_type": "code",
   "execution_count": 1,
   "id": "87e388f7-edd8-497b-98fc-944e04583522",
   "metadata": {
    "tags": []
   },
   "outputs": [],
   "source": [
    "#%pip install llama-index llama-index-llms-openai-like"
   ]
  },
  {
   "cell_type": "code",
   "execution_count": 2,
   "id": "84a350ba",
   "metadata": {},
   "outputs": [],
   "source": [
    "# LangChain\n",
    "llm = ChatOpenAI(\n",
    "    model=\"llama-3.3-70b-instruct\",\n",
    "    api_key=os.getenv('GPTJRC_API_TOKEN'),\n",
    "    base_url='https://api-gpt.jrc.ec.europa.eu/v1',\n",
    ")\n"
   ]
  },
  {
   "cell_type": "code",
   "execution_count": 1,
   "id": "791bd116",
   "metadata": {},
   "outputs": [
    {
     "name": "stderr",
     "output_type": "stream",
     "text": [
      "/root/anaconda3/envs/plgrnd/lib/python3.12/site-packages/tqdm/auto.py:21: TqdmWarning: IProgress not found. Please update jupyter and ipywidgets. See https://ipywidgets.readthedocs.io/en/stable/user_install.html\n",
      "  from .autonotebook import tqdm as notebook_tqdm\n",
      "None of PyTorch, TensorFlow >= 2.0, or Flax have been found. Models won't be available and only tokenizers, configuration and file/data utilities can be used.\n"
     ]
    },
    {
     "data": {
      "text/plain": [
       "True"
      ]
     },
     "execution_count": 1,
     "metadata": {},
     "output_type": "execute_result"
    }
   ],
   "source": [
    "import os\n",
    "from dotenv import load_dotenv\n",
    "from langchain_openai import ChatOpenAI\n",
    "\n",
    "from llama_index.llms.openai_like import OpenAILike\n",
    "load_dotenv()"
   ]
  },
  {
   "cell_type": "markdown",
   "id": "88d17c21",
   "metadata": {},
   "source": [
    "### DeepInfra"
   ]
  },
  {
   "cell_type": "code",
   "execution_count": 2,
   "id": "d2fbaaa5-5571-40e8-9c0c-4ae2b9b4b93a",
   "metadata": {
    "tags": []
   },
   "outputs": [
    {
     "name": "stdout",
     "output_type": "stream",
     "text": [
      "Hello! It's great to meet you! Is there something I can help you with or would you like to chat?\n"
     ]
    }
   ],
   "source": [
    "llm = ChatOpenAI(\n",
    "    model=\"meta-llama/Llama-3.3-70B-Instruct\",\n",
    "    api_key=os.getenv('DEEPINFRA_API_TOKEN'),\n",
    "    base_url=os.getenv('DEEPINFRA_BASE_URL'),\n",
    ")\n",
    "\n",
    "output = llm.invoke(\"Hello World!\")\n",
    "\n",
    "print(output.content)"
   ]
  },
  {
   "cell_type": "code",
   "execution_count": 4,
   "id": "205ceeb4-3b5e-4c69-9861-a84ca1e95c13",
   "metadata": {
    "tags": []
   },
   "outputs": [
    {
     "name": "stdout",
     "output_type": "stream",
     "text": [
      " The following is a list of the most popular and best-selling books of all time, in any genre. This list only includes novels, not non-fiction books or collections of short stories. The numbers are approximate and based on various sources, including publishers, scholars, and booksellers. Here are the top 10 best-selling books of all time: 1. **Don Quixote** (1605) by Miguel de Cervantes: 500 million+ copies sold 2. **A Tale of Two Cities** (1859) by Charles Dickens: 200 million+ copies sold 3. **The Lord of the Rings** (1954-1955) by J.R.R. Tolkien: 150 million+ copies sold 4. **The Little Prince** (1943) by Antoine de Saint-Exupéry: 140 million+ copies sold 5. **Harry Potter and the Philosopher's Stone** (1997) by J.K. Rowling: 120 million+ copies sold 6. **To Kill a Mockingbird** (1960) by Harper Lee: 100 million+ copies sold 7. **The Lion, the Witch and the Wardrobe** (1950) by C.S. Lewis: 90 million+ copies sold 8. **Pride and Prejudice** (1813) by Jane Austen: 80 million+ copies sold 9. **The Catcher in the Rye** (1951) by J.D. Salinger: 70 million+ copies sold 10. **The Hunger Games** (2008) by Suzanne Collins: 60 million+ copies sold Note: The sales figures are approximate and sourced from various places, including Amazon, Publishers Weekly, and The Guardian. Keep in mind that these numbers are subject to change over time and may not reflect the most up-to-date figures. Happy reading! #books #bestsellers #literature #reading #novels\n",
      "The following is a list of the most popular and best-selling books of all time, in any genre. This list only includes novels, not non-fiction books or collections of short stories. The numbers are approximate and based on various sources, including publishers, scholars, and booksellers. Here are the top 10 best-selling books of all time: 1. **Don Quixote** (1605) by Miguel de Cervantes: 500 million+ copies sold 2. **A Tale of Two Cities** (1859) by Charles\n"
     ]
    }
   ],
   "source": [
    "llm = OpenAILike(\n",
    "    model='meta-llama/Llama-3.3-70B-Instruct', \n",
    "    api_base=os.getenv('DEEPINFRA_BASE_URL'), \n",
    "    api_key=os.getenv('DEEPINFRA_API_TOKEN')\n",
    ")\n",
    "\n",
    "r = llm.complete(\"Hello World!\")\n",
    "print(r.text)"
   ]
  },
  {
   "cell_type": "markdown",
   "id": "9b91fde7",
   "metadata": {},
   "source": [
    "## GPT@JRC"
   ]
  },
  {
   "cell_type": "code",
   "execution_count": 6,
   "id": "af5c2868",
   "metadata": {},
   "outputs": [
    {
     "name": "stdout",
     "output_type": "stream",
     "text": [
      "Hello! It's nice to meet you. Is there something I can help you with or would you like to chat?\n"
     ]
    }
   ],
   "source": [
    "llm = ChatOpenAI(\n",
    "    model=\"llama-3.3-70b-instruct\",\n",
    "    api_key=os.getenv('GPTJRC_API_TOKEN'),\n",
    "    base_url=os.getenv('GPTJRC_BASE_URL'),\n",
    ")\n",
    "\n",
    "output = llm.invoke(\"Hello World!\")\n",
    "\n",
    "print(output.content)"
   ]
  },
  {
   "cell_type": "code",
   "execution_count": 8,
   "id": "7e83a510",
   "metadata": {},
   "outputs": [
    {
     "name": "stdout",
     "output_type": "stream",
     "text": [
      " I'm a software engineer with a passion for building scalable and efficient systems. I've worked on a wide range of projects, from web applications to machine learning models, and I'm always looking to learn and improve my skills. In my free time, I enjoy hiking, reading, and trying out new recipes in the kitchen. I'm excited to share my knowledge and experiences with the community, and I look forward to learning from others as well.\n",
      "\n",
      "### Technical Skills\n",
      "\n",
      "* Programming languages: Python, Java, JavaScript\n",
      "* Development frameworks: Django, Spring Boot, React\n",
      "* Databases: MySQL, PostgreSQL, MongoDB\n",
      "* Operating Systems: Windows, Linux, macOS\n",
      "* Agile methodologies: Scrum, Kanban\n",
      "* Cloud platforms: AWS, Azure, Google Cloud\n",
      "\n",
      "### Projects\n",
      "\n",
      "* **Web Application**: Built a web application using Django and React to manage user accounts and provide personalized recommendations.\n",
      "* **Machine Learning Model**: Developed a machine learning model using Python and scikit-learn to predict customer churn for a telecom company.\n",
      "* **DevOps**: Implemented a CI/CD pipeline using Jenkins and Docker to automate testing and deployment of a web application.\n",
      "\n",
      "### Certifications\n",
      "\n",
      "* **Certified Scrum Master (CSM)**: Certified by the Scrum Alliance\n",
      "* **Certified Java Developer (OCPJP)**: Certified by Oracle Corporation\n",
      "\n",
      "### Education\n",
      "\n",
      "* **Bachelor of Science in Computer Science**: Graduated from XYZ University with a GPA of 3.5/4.0\n",
      "\n",
      "### Contact\n",
      "\n",
      "* **Email**: [example@email.com](mailto:example@email.com)\n",
      "* **LinkedIn**: [linkedin.com/in/example](https://www.linkedin.com/in/example)\n",
      "* **GitHub**: [github.com/example](https://github.com/example)\n"
     ]
    }
   ],
   "source": [
    "llm = OpenAILike(\n",
    "    model='llama-3.3-70b-instruct', \n",
    "    api_base=os.getenv('GPTJRC_BASE_URL'), \n",
    "    api_key=os.getenv('GPTJRC_API_TOKEN')\n",
    ")\n",
    "\n",
    "r = llm.complete(\"Hello World!\",formatted=True)\n",
    "print(r.text)"
   ]
  },
  {
   "cell_type": "code",
   "execution_count": 9,
   "id": "f0675eb0",
   "metadata": {},
   "outputs": [
    {
     "name": "stdout",
     "output_type": "stream",
     "text": [
      "\u001b[0;31mSignature:\u001b[0m \u001b[0mllm\u001b[0m\u001b[0;34m.\u001b[0m\u001b[0mcomplete\u001b[0m\u001b[0;34m(\u001b[0m\u001b[0mprompt\u001b[0m\u001b[0;34m:\u001b[0m \u001b[0mstr\u001b[0m\u001b[0;34m,\u001b[0m \u001b[0mformatted\u001b[0m\u001b[0;34m:\u001b[0m \u001b[0mbool\u001b[0m \u001b[0;34m=\u001b[0m \u001b[0;32mFalse\u001b[0m\u001b[0;34m,\u001b[0m \u001b[0;34m**\u001b[0m\u001b[0mkwargs\u001b[0m\u001b[0;34m:\u001b[0m \u001b[0mAny\u001b[0m\u001b[0;34m)\u001b[0m \u001b[0;34m->\u001b[0m \u001b[0mllama_index\u001b[0m\u001b[0;34m.\u001b[0m\u001b[0mcore\u001b[0m\u001b[0;34m.\u001b[0m\u001b[0mbase\u001b[0m\u001b[0;34m.\u001b[0m\u001b[0mllms\u001b[0m\u001b[0;34m.\u001b[0m\u001b[0mtypes\u001b[0m\u001b[0;34m.\u001b[0m\u001b[0mCompletionResponse\u001b[0m\u001b[0;34m\u001b[0m\u001b[0;34m\u001b[0m\u001b[0m\n",
      "\u001b[0;31mDocstring:\u001b[0m Complete the prompt.\n",
      "\u001b[0;31mFile:\u001b[0m      ~/anaconda3/envs/plgrnd/lib/python3.12/site-packages/llama_index/llms/openai_like/base.py\n",
      "\u001b[0;31mType:\u001b[0m      BoundFunctionWrapper"
     ]
    }
   ],
   "source": [
    "?llm.complete"
   ]
  },
  {
   "cell_type": "code",
   "execution_count": null,
   "id": "84d9cb89",
   "metadata": {},
   "outputs": [],
   "source": []
  },
  {
   "cell_type": "code",
   "execution_count": null,
   "id": "dd126623",
   "metadata": {},
   "outputs": [],
   "source": []
  },
  {
   "cell_type": "code",
   "execution_count": null,
   "id": "560125f5",
   "metadata": {},
   "outputs": [],
   "source": []
  },
  {
   "cell_type": "code",
   "execution_count": null,
   "id": "65caad0c-fb00-45b0-b31a-16772c251f86",
   "metadata": {},
   "outputs": [],
   "source": [
    "from llama_index.llms.openai_like import OpenAILike\n",
    "from dotenv import load_dotenv\n",
    "import os\n",
    "load_dotenv('secrets.env')\n",
    "\n",
    "llm = OpenAILike(\n",
    "    model='llama-3.3-70b-instruct', \n",
    "    api_base='https://api-gpt.jrc.ec.europa.eu/v1', \n",
    "    api_key=os.getenv('GPT_JRC_TOKEN')\n",
    ")\n",
    "\n",
    "from llama_index.core.llms import ChatMessage\n",
    "from llama_index.llms.openai import OpenAI\n",
    "\n",
    "messages = [\n",
    "    ChatMessage(role=\"user\", content=\"Hello World!\"),\n",
    "]\n",
    "resp = llm.chat(messages)\n",
    "print(resp)"
   ]
  },
  {
   "cell_type": "code",
   "execution_count": null,
   "id": "d28023c8-73f7-46b2-9f2e-689d58e8bb52",
   "metadata": {},
   "outputs": [],
   "source": []
  }
 ],
 "metadata": {
  "kernelspec": {
   "display_name": "plgrnd",
   "language": "python",
   "name": "python3"
  },
  "language_info": {
   "codemirror_mode": {
    "name": "ipython",
    "version": 3
   },
   "file_extension": ".py",
   "mimetype": "text/x-python",
   "name": "python",
   "nbconvert_exporter": "python",
   "pygments_lexer": "ipython3",
   "version": "3.12.7"
  }
 },
 "nbformat": 4,
 "nbformat_minor": 5
}
